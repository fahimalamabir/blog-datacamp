{
 "cells": [
  {
   "cell_type": "markdown",
   "id": "7bb7ec84",
   "metadata": {},
   "source": [
    "# Basic Operations"
   ]
  },
  {
   "cell_type": "code",
   "execution_count": 1,
   "id": "88e3d01f",
   "metadata": {},
   "outputs": [],
   "source": [
    "import tensorflow as tf\n"
   ]
  },
  {
   "cell_type": "code",
   "execution_count": 2,
   "id": "3e5ca5d0",
   "metadata": {},
   "outputs": [],
   "source": [
    "# 0D tendors\n",
    "A0 = tf.constant([1])\n",
    "B0 = tf.constant([2])"
   ]
  },
  {
   "cell_type": "code",
   "execution_count": 3,
   "id": "403948ee",
   "metadata": {},
   "outputs": [],
   "source": [
    "# 1D tendors\n",
    "A1 = tf.constant([1,2])\n",
    "B1 = tf.constant([3,4])"
   ]
  },
  {
   "cell_type": "code",
   "execution_count": 5,
   "id": "30302b02",
   "metadata": {},
   "outputs": [],
   "source": [
    "# 2D tendors\n",
    "A2 = tf.constant([[1,2],[3,4]])\n",
    "B2 = tf.constant([[5,6],[7,8]])"
   ]
  },
  {
   "cell_type": "code",
   "execution_count": 7,
   "id": "1cdbeaa1",
   "metadata": {},
   "outputs": [],
   "source": [
    "# add\n",
    "c0 = tf.add(A0,B0)\n",
    "c1 = tf.add(A1,B1)\n",
    "c2 = tf.add(A2,B2)"
   ]
  },
  {
   "cell_type": "code",
   "execution_count": 10,
   "id": "0ed1146f",
   "metadata": {},
   "outputs": [],
   "source": [
    "# multiply\n",
    "D0 = tf.ones(1)\n",
    "D31 = tf.ones([3,1])\n",
    "D34 = tf.ones([3,4])\n",
    "D43 = tf.ones([4,3])\n",
    "\n",
    "E0 = tf.multiply(A0,B0)"
   ]
  },
  {
   "cell_type": "code",
   "execution_count": 11,
   "id": "39372d5f",
   "metadata": {},
   "outputs": [],
   "source": [
    "# vector multiply\n",
    "E1 = tf.matmul(D34,D43)"
   ]
  },
  {
   "cell_type": "code",
   "execution_count": 12,
   "id": "af151e41",
   "metadata": {},
   "outputs": [],
   "source": [
    "# define 2X3X4 of ones\n",
    "\n",
    "G = tf.ones([2,3,4])"
   ]
  },
  {
   "cell_type": "code",
   "execution_count": 13,
   "id": "d970db05",
   "metadata": {},
   "outputs": [],
   "source": [
    "# all dimsensions\n",
    "H = tf.reduce_sum(G)"
   ]
  },
  {
   "cell_type": "code",
   "execution_count": 14,
   "id": "7aab4435",
   "metadata": {},
   "outputs": [],
   "source": [
    "# sum over 0,1,2 dimsensions\n",
    "H0 = tf.reduce_sum(G,0)\n",
    "H1 = tf.reduce_sum(G,1)\n",
    "H2 = tf.reduce_sum(G,2)"
   ]
  },
  {
   "cell_type": "markdown",
   "id": "b926d813",
   "metadata": {},
   "source": [
    "# Performing element-wise multiplication\n"
   ]
  },
  {
   "cell_type": "code",
   "execution_count": 15,
   "id": "9f5f8142",
   "metadata": {},
   "outputs": [
    {
     "name": "stdout",
     "output_type": "stream",
     "text": [
      "C1: [1 2 3 4]\n",
      "C23: [[1 2 3]\n",
      " [1 6 4]]\n"
     ]
    }
   ],
   "source": [
    "# Define tensors A1 and A23 as constants\n",
    "A1 = tf.constant([1, 2, 3, 4])\n",
    "A23 = tf.constant([[1, 2, 3], [1, 6, 4]])\n",
    "\n",
    "# Define B1 and B23 to have the correct shape\n",
    "B1 = tf.ones_like(A1)\n",
    "B23 = tf.ones_like(A23)\n",
    "\n",
    "# Perform element-wise multiplication\n",
    "C1 = tf.multiply(A1, B1)\n",
    "C23 = tf.multiply(A23, B23)\n",
    "\n",
    "# Print the tensors C1 and C23\n",
    "print('C1: {}'.format(C1.numpy()))\n",
    "print('C23: {}'.format(C23.numpy()))"
   ]
  },
  {
   "cell_type": "markdown",
   "id": "c635ba63",
   "metadata": {},
   "source": [
    "# Making predictions with matrix multiplication"
   ]
  },
  {
   "cell_type": "code",
   "execution_count": 16,
   "id": "3ffab7b7",
   "metadata": {},
   "outputs": [
    {
     "name": "stdout",
     "output_type": "stream",
     "text": [
      "[[-1687]\n",
      " [-3218]\n",
      " [-1933]\n",
      " [57850]]\n"
     ]
    }
   ],
   "source": [
    "# Define features, params, and bill as constants\n",
    "features = tf.constant([[2, 24], [2, 26], [2, 57], [1, 37]])\n",
    "params = tf.constant([[1000], [150]])\n",
    "bill = tf.constant([[3913], [2682], [8617], [64400]])\n",
    "\n",
    "# Compute billpred using features and params\n",
    "billpred = tf.matmul(features, params)\n",
    "\n",
    "# Compute and print the error\n",
    "error = bill - billpred\n",
    "print(error.numpy())"
   ]
  },
  {
   "cell_type": "markdown",
   "id": "f03b9b10",
   "metadata": {},
   "source": [
    "# Summing over tensor dimensions"
   ]
  },
  {
   "cell_type": "code",
   "execution_count": 17,
   "id": "8347ac05",
   "metadata": {},
   "outputs": [
    {
     "data": {
      "text/plain": [
       "<tf.Tensor: shape=(5,), dtype=int32, numpy=array([61,  9, 64,  3, 35])>"
      ]
     },
     "execution_count": 17,
     "metadata": {},
     "output_type": "execute_result"
    }
   ],
   "source": [
    "wealth = tf.constant([[11, 50], [7, 2], [4, 60], [3, 0], [25, 10]])\n",
    "tf.reduce_sum(wealth)\n",
    "\n",
    "tf.reduce_sum(wealth, 1)"
   ]
  }
 ],
 "metadata": {
  "kernelspec": {
   "display_name": "Python 3",
   "language": "python",
   "name": "python3"
  },
  "language_info": {
   "codemirror_mode": {
    "name": "ipython",
    "version": 3
   },
   "file_extension": ".py",
   "mimetype": "text/x-python",
   "name": "python",
   "nbconvert_exporter": "python",
   "pygments_lexer": "ipython3",
   "version": "3.7.10"
  }
 },
 "nbformat": 4,
 "nbformat_minor": 5
}
