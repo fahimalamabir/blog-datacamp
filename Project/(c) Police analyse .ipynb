{
 "cells": [
  {
   "cell_type": "code",
   "execution_count": 1,
   "metadata": {},
   "outputs": [
    {
     "data": {
      "text/html": [
       "<div>\n",
       "<style scoped>\n",
       "    .dataframe tbody tr th:only-of-type {\n",
       "        vertical-align: middle;\n",
       "    }\n",
       "\n",
       "    .dataframe tbody tr th {\n",
       "        vertical-align: top;\n",
       "    }\n",
       "\n",
       "    .dataframe thead th {\n",
       "        text-align: right;\n",
       "    }\n",
       "</style>\n",
       "<table border=\"1\" class=\"dataframe\">\n",
       "  <thead>\n",
       "    <tr style=\"text-align: right;\">\n",
       "      <th></th>\n",
       "      <th>state</th>\n",
       "      <th>stop_date</th>\n",
       "      <th>stop_time</th>\n",
       "      <th>county_name</th>\n",
       "      <th>driver_gender</th>\n",
       "      <th>driver_race</th>\n",
       "      <th>violation_raw</th>\n",
       "      <th>violation</th>\n",
       "      <th>search_conducted</th>\n",
       "      <th>search_type</th>\n",
       "      <th>stop_outcome</th>\n",
       "      <th>is_arrested</th>\n",
       "      <th>stop_duration</th>\n",
       "      <th>drugs_related_stop</th>\n",
       "      <th>district</th>\n",
       "    </tr>\n",
       "  </thead>\n",
       "  <tbody>\n",
       "    <tr>\n",
       "      <th>0</th>\n",
       "      <td>RI</td>\n",
       "      <td>2005-01-04</td>\n",
       "      <td>12:55</td>\n",
       "      <td>NaN</td>\n",
       "      <td>M</td>\n",
       "      <td>White</td>\n",
       "      <td>Equipment/Inspection Violation</td>\n",
       "      <td>Equipment</td>\n",
       "      <td>False</td>\n",
       "      <td>NaN</td>\n",
       "      <td>Citation</td>\n",
       "      <td>False</td>\n",
       "      <td>0-15 Min</td>\n",
       "      <td>False</td>\n",
       "      <td>Zone X4</td>\n",
       "    </tr>\n",
       "    <tr>\n",
       "      <th>1</th>\n",
       "      <td>RI</td>\n",
       "      <td>2005-01-23</td>\n",
       "      <td>23:15</td>\n",
       "      <td>NaN</td>\n",
       "      <td>M</td>\n",
       "      <td>White</td>\n",
       "      <td>Speeding</td>\n",
       "      <td>Speeding</td>\n",
       "      <td>False</td>\n",
       "      <td>NaN</td>\n",
       "      <td>Citation</td>\n",
       "      <td>False</td>\n",
       "      <td>0-15 Min</td>\n",
       "      <td>False</td>\n",
       "      <td>Zone K3</td>\n",
       "    </tr>\n",
       "    <tr>\n",
       "      <th>2</th>\n",
       "      <td>RI</td>\n",
       "      <td>2005-02-17</td>\n",
       "      <td>04:15</td>\n",
       "      <td>NaN</td>\n",
       "      <td>M</td>\n",
       "      <td>White</td>\n",
       "      <td>Speeding</td>\n",
       "      <td>Speeding</td>\n",
       "      <td>False</td>\n",
       "      <td>NaN</td>\n",
       "      <td>Citation</td>\n",
       "      <td>False</td>\n",
       "      <td>0-15 Min</td>\n",
       "      <td>False</td>\n",
       "      <td>Zone X4</td>\n",
       "    </tr>\n",
       "    <tr>\n",
       "      <th>3</th>\n",
       "      <td>RI</td>\n",
       "      <td>2005-02-20</td>\n",
       "      <td>17:15</td>\n",
       "      <td>NaN</td>\n",
       "      <td>M</td>\n",
       "      <td>White</td>\n",
       "      <td>Call for Service</td>\n",
       "      <td>Other</td>\n",
       "      <td>False</td>\n",
       "      <td>NaN</td>\n",
       "      <td>Arrest Driver</td>\n",
       "      <td>True</td>\n",
       "      <td>16-30 Min</td>\n",
       "      <td>False</td>\n",
       "      <td>Zone X1</td>\n",
       "    </tr>\n",
       "    <tr>\n",
       "      <th>4</th>\n",
       "      <td>RI</td>\n",
       "      <td>2005-02-24</td>\n",
       "      <td>01:20</td>\n",
       "      <td>NaN</td>\n",
       "      <td>F</td>\n",
       "      <td>White</td>\n",
       "      <td>Speeding</td>\n",
       "      <td>Speeding</td>\n",
       "      <td>False</td>\n",
       "      <td>NaN</td>\n",
       "      <td>Citation</td>\n",
       "      <td>False</td>\n",
       "      <td>0-15 Min</td>\n",
       "      <td>False</td>\n",
       "      <td>Zone X3</td>\n",
       "    </tr>\n",
       "  </tbody>\n",
       "</table>\n",
       "</div>"
      ],
      "text/plain": [
       "  state   stop_date stop_time  county_name driver_gender driver_race  \\\n",
       "0    RI  2005-01-04     12:55          NaN             M       White   \n",
       "1    RI  2005-01-23     23:15          NaN             M       White   \n",
       "2    RI  2005-02-17     04:15          NaN             M       White   \n",
       "3    RI  2005-02-20     17:15          NaN             M       White   \n",
       "4    RI  2005-02-24     01:20          NaN             F       White   \n",
       "\n",
       "                    violation_raw  violation  search_conducted search_type  \\\n",
       "0  Equipment/Inspection Violation  Equipment             False         NaN   \n",
       "1                        Speeding   Speeding             False         NaN   \n",
       "2                        Speeding   Speeding             False         NaN   \n",
       "3                Call for Service      Other             False         NaN   \n",
       "4                        Speeding   Speeding             False         NaN   \n",
       "\n",
       "    stop_outcome is_arrested stop_duration  drugs_related_stop district  \n",
       "0       Citation       False      0-15 Min               False  Zone X4  \n",
       "1       Citation       False      0-15 Min               False  Zone K3  \n",
       "2       Citation       False      0-15 Min               False  Zone X4  \n",
       "3  Arrest Driver        True     16-30 Min               False  Zone X1  \n",
       "4       Citation       False      0-15 Min               False  Zone X3  "
      ]
     },
     "execution_count": 1,
     "metadata": {},
     "output_type": "execute_result"
    }
   ],
   "source": [
    "# Import the pandas library as pd\n",
    "import pandas as pd\n",
    "ri = pd.read_csv('police.csv')\n",
    "# Examine the head of the DataFrame\n",
    "ri.head()"
   ]
  },
  {
   "cell_type": "code",
   "execution_count": 2,
   "metadata": {},
   "outputs": [
    {
     "name": "stdout",
     "output_type": "stream",
     "text": [
      "state                     0\n",
      "stop_date                 0\n",
      "stop_time                 0\n",
      "county_name           91741\n",
      "driver_gender          5205\n",
      "driver_race            5202\n",
      "violation_raw          5202\n",
      "violation              5202\n",
      "search_conducted          0\n",
      "search_type           88434\n",
      "stop_outcome           5202\n",
      "is_arrested            5202\n",
      "stop_duration          5202\n",
      "drugs_related_stop        0\n",
      "district                  0\n",
      "dtype: int64\n"
     ]
    }
   ],
   "source": [
    "# Count the number of missing values in each column\n",
    "print(ri.isnull().sum())"
   ]
  },
  {
   "cell_type": "code",
   "execution_count": 3,
   "metadata": {},
   "outputs": [
    {
     "name": "stdout",
     "output_type": "stream",
     "text": [
      "(91741, 15)\n"
     ]
    }
   ],
   "source": [
    "# Examine the shape of the DataFrame\n",
    "print(ri.shape)"
   ]
  },
  {
   "cell_type": "code",
   "execution_count": 4,
   "metadata": {},
   "outputs": [],
   "source": [
    "# Drop the 'county_name' and 'state' columns\n",
    "ri.drop(['county_name', 'state'], axis='columns', inplace=True)"
   ]
  },
  {
   "cell_type": "code",
   "execution_count": 5,
   "metadata": {},
   "outputs": [
    {
     "name": "stdout",
     "output_type": "stream",
     "text": [
      "(91741, 13)\n"
     ]
    }
   ],
   "source": [
    "# Examine the shape of the DataFrame (again)\n",
    "print(ri.shape)"
   ]
  },
  {
   "cell_type": "code",
   "execution_count": 6,
   "metadata": {},
   "outputs": [],
   "source": [
    "# Drop all rows that are missing 'driver_gender'\n",
    "ri.dropna(subset=['driver_gender'], inplace=True)"
   ]
  },
  {
   "cell_type": "code",
   "execution_count": 7,
   "metadata": {},
   "outputs": [
    {
     "name": "stdout",
     "output_type": "stream",
     "text": [
      "stop_date                 0\n",
      "stop_time                 0\n",
      "driver_gender             0\n",
      "driver_race               0\n",
      "violation_raw             0\n",
      "violation                 0\n",
      "search_conducted          0\n",
      "search_type           83229\n",
      "stop_outcome              0\n",
      "is_arrested               0\n",
      "stop_duration             0\n",
      "drugs_related_stop        0\n",
      "district                  0\n",
      "dtype: int64\n"
     ]
    }
   ],
   "source": [
    "# Count the number of missing values in each column (again)\n",
    "print(ri.isnull().sum())"
   ]
  },
  {
   "cell_type": "code",
   "execution_count": 8,
   "metadata": {},
   "outputs": [
    {
     "name": "stdout",
     "output_type": "stream",
     "text": [
      "(86536, 13)\n"
     ]
    }
   ],
   "source": [
    "# Examine the shape of the DataFrame\n",
    "print(ri.shape)"
   ]
  },
  {
   "cell_type": "code",
   "execution_count": 9,
   "metadata": {},
   "outputs": [
    {
     "data": {
      "text/plain": [
       "stop_date             object\n",
       "stop_time             object\n",
       "driver_gender         object\n",
       "driver_race           object\n",
       "violation_raw         object\n",
       "violation             object\n",
       "search_conducted        bool\n",
       "search_type           object\n",
       "stop_outcome          object\n",
       "is_arrested           object\n",
       "stop_duration         object\n",
       "drugs_related_stop      bool\n",
       "district              object\n",
       "dtype: object"
      ]
     },
     "execution_count": 9,
     "metadata": {},
     "output_type": "execute_result"
    }
   ],
   "source": [
    "ri.dtypes"
   ]
  },
  {
   "cell_type": "markdown",
   "metadata": {},
   "source": [
    "We need to check whether the person was arrested or not, in this scenario, being 'object' type does not help us. So need to fix the type of the column 'is_arrested'"
   ]
  },
  {
   "cell_type": "code",
   "execution_count": 11,
   "metadata": {},
   "outputs": [],
   "source": [
    " #Change the data type of 'is_arrested' to 'bool'\n",
    "ri['is_arrested'] = ri.is_arrested.astype('bool')"
   ]
  },
  {
   "cell_type": "code",
   "execution_count": 12,
   "metadata": {},
   "outputs": [],
   "source": [
    "# Concatenate 'stop_date' and 'stop_time' (separated by a space)\n",
    "combined = ri.stop_date.str.cat(ri.stop_time, sep=' ')"
   ]
  },
  {
   "cell_type": "code",
   "execution_count": 13,
   "metadata": {},
   "outputs": [],
   "source": [
    "# Convert 'combined' to datetime format\n",
    "ri['stop_datetime'] = pd.to_datetime(combined)"
   ]
  },
  {
   "cell_type": "code",
   "execution_count": 15,
   "metadata": {},
   "outputs": [
    {
     "name": "stdout",
     "output_type": "stream",
     "text": [
      "stop_date                     object\n",
      "stop_time                     object\n",
      "driver_gender                 object\n",
      "driver_race                   object\n",
      "violation_raw                 object\n",
      "violation                     object\n",
      "search_conducted                bool\n",
      "search_type                   object\n",
      "stop_outcome                  object\n",
      "is_arrested                     bool\n",
      "stop_duration                 object\n",
      "drugs_related_stop              bool\n",
      "district                      object\n",
      "stop_datetime         datetime64[ns]\n",
      "dtype: object\n"
     ]
    }
   ],
   "source": [
    "# Examine the data types of the DataFrame\n",
    "print(ri.dtypes)"
   ]
  },
  {
   "cell_type": "code",
   "execution_count": 16,
   "metadata": {},
   "outputs": [],
   "source": [
    "# Set 'stop_datetime' as the index\n",
    "ri.set_index('stop_datetime', inplace=True)"
   ]
  },
  {
   "cell_type": "code",
   "execution_count": 17,
   "metadata": {
    "scrolled": true
   },
   "outputs": [
    {
     "name": "stdout",
     "output_type": "stream",
     "text": [
      "DatetimeIndex(['2005-01-04 12:55:00', '2005-01-23 23:15:00',\n",
      "               '2005-02-17 04:15:00', '2005-02-20 17:15:00',\n",
      "               '2005-02-24 01:20:00', '2005-03-14 10:00:00',\n",
      "               '2005-03-29 21:55:00', '2005-04-04 21:25:00',\n",
      "               '2005-07-14 11:20:00', '2005-07-14 19:55:00',\n",
      "               ...\n",
      "               '2015-12-31 13:23:00', '2015-12-31 18:59:00',\n",
      "               '2015-12-31 19:13:00', '2015-12-31 20:20:00',\n",
      "               '2015-12-31 20:50:00', '2015-12-31 21:21:00',\n",
      "               '2015-12-31 21:59:00', '2015-12-31 22:04:00',\n",
      "               '2015-12-31 22:09:00', '2015-12-31 22:47:00'],\n",
      "              dtype='datetime64[ns]', name='stop_datetime', length=86536, freq=None)\n"
     ]
    }
   ],
   "source": [
    "# Examine the index\n",
    "print(ri.index)"
   ]
  },
  {
   "cell_type": "code",
   "execution_count": 18,
   "metadata": {},
   "outputs": [
    {
     "name": "stdout",
     "output_type": "stream",
     "text": [
      "Index(['stop_date', 'stop_time', 'driver_gender', 'driver_race',\n",
      "       'violation_raw', 'violation', 'search_conducted', 'search_type',\n",
      "       'stop_outcome', 'is_arrested', 'stop_duration', 'drugs_related_stop',\n",
      "       'district'],\n",
      "      dtype='object')\n"
     ]
    }
   ],
   "source": [
    "# Examine the columns\n",
    "print(ri.columns)"
   ]
  },
  {
   "cell_type": "code",
   "execution_count": 19,
   "metadata": {},
   "outputs": [
    {
     "name": "stdout",
     "output_type": "stream",
     "text": [
      "Speeding               48423\n",
      "Moving violation       16224\n",
      "Equipment              10921\n",
      "Other                   4409\n",
      "Registration/plates     3703\n",
      "Seat belt               2856\n",
      "Name: violation, dtype: int64\n"
     ]
    }
   ],
   "source": [
    "# Count the unique values in 'violation'\n",
    "print(ri.violation.value_counts())"
   ]
  },
  {
   "cell_type": "code",
   "execution_count": 20,
   "metadata": {},
   "outputs": [
    {
     "name": "stdout",
     "output_type": "stream",
     "text": [
      "Speeding               0.559571\n",
      "Moving violation       0.187483\n",
      "Equipment              0.126202\n",
      "Other                  0.050950\n",
      "Registration/plates    0.042791\n",
      "Seat belt              0.033004\n",
      "Name: violation, dtype: float64\n"
     ]
    }
   ],
   "source": [
    "# Express the counts as proportions\n",
    "print(ri.violation.value_counts(normalize=True))"
   ]
  },
  {
   "cell_type": "code",
   "execution_count": 21,
   "metadata": {},
   "outputs": [
    {
     "name": "stdout",
     "output_type": "stream",
     "text": [
      "White       61870\n",
      "Black       12285\n",
      "Hispanic     9727\n",
      "Asian        2389\n",
      "Other         265\n",
      "Name: driver_race, dtype: int64\n"
     ]
    }
   ],
   "source": [
    "print(ri.driver_race.value_counts())"
   ]
  },
  {
   "cell_type": "code",
   "execution_count": 22,
   "metadata": {},
   "outputs": [
    {
     "data": {
      "text/plain": [
       "(61870, 13)"
      ]
     },
     "execution_count": 22,
     "metadata": {},
     "output_type": "execute_result"
    }
   ],
   "source": [
    "white = ri[ri.driver_race == 'White']\n",
    "white.shape"
   ]
  },
  {
   "cell_type": "code",
   "execution_count": 23,
   "metadata": {},
   "outputs": [
    {
     "data": {
      "text/plain": [
       "Citation            0.902263\n",
       "Warning             0.057508\n",
       "Arrest Driver       0.024018\n",
       "No Action           0.007031\n",
       "N/D                 0.006433\n",
       "Arrest Passenger    0.002748\n",
       "Name: stop_outcome, dtype: float64"
      ]
     },
     "execution_count": 23,
     "metadata": {},
     "output_type": "execute_result"
    }
   ],
   "source": [
    "white.stop_outcome.value_counts(normalize=True)"
   ]
  },
  {
   "cell_type": "code",
   "execution_count": 24,
   "metadata": {},
   "outputs": [],
   "source": [
    "# Create a DataFrame of female drivers\n",
    "female = ri[ri.driver_gender=='F']\n",
    "\n",
    "# Create a DataFrame of male drivers\n",
    "male = ri[ri.driver_gender=='M']"
   ]
  },
  {
   "cell_type": "code",
   "execution_count": 25,
   "metadata": {},
   "outputs": [
    {
     "name": "stdout",
     "output_type": "stream",
     "text": [
      "Speeding               0.658114\n",
      "Moving violation       0.138218\n",
      "Equipment              0.105199\n",
      "Registration/plates    0.044418\n",
      "Other                  0.029738\n",
      "Seat belt              0.024312\n",
      "Name: violation, dtype: float64\n"
     ]
    }
   ],
   "source": [
    "# Compute the violations by female drivers (as proportions)\n",
    "print(female.violation.value_counts(normalize=True))"
   ]
  },
  {
   "cell_type": "code",
   "execution_count": 26,
   "metadata": {},
   "outputs": [
    {
     "name": "stdout",
     "output_type": "stream",
     "text": [
      "Speeding               0.522243\n",
      "Moving violation       0.206144\n",
      "Equipment              0.134158\n",
      "Other                  0.058985\n",
      "Registration/plates    0.042175\n",
      "Seat belt              0.036296\n",
      "Name: violation, dtype: float64\n"
     ]
    }
   ],
   "source": [
    " #Compute the violations by male drivers (as proportions)\n",
    "print(male.violation.value_counts(normalize=True))\n"
   ]
  },
  {
   "cell_type": "code",
   "execution_count": 27,
   "metadata": {},
   "outputs": [],
   "source": [
    "# Create a DataFrame of female drivers stopped for speeding\n",
    "female_and_speeding = ri[(ri.driver_gender=='F') & (ri.violation=='Speeding')]\n",
    "\n",
    "# Create a DataFrame of male drivers stopped for speeding\n",
    "male_and_speeding = ri[(ri.driver_gender=='M') & (ri.violation=='Speeding')]"
   ]
  },
  {
   "cell_type": "code",
   "execution_count": 28,
   "metadata": {},
   "outputs": [
    {
     "name": "stdout",
     "output_type": "stream",
     "text": [
      "Citation            0.952192\n",
      "Warning             0.040074\n",
      "Arrest Driver       0.005752\n",
      "N/D                 0.000959\n",
      "Arrest Passenger    0.000639\n",
      "No Action           0.000383\n",
      "Name: stop_outcome, dtype: float64\n",
      "Citation            0.944595\n",
      "Warning             0.036184\n",
      "Arrest Driver       0.015895\n",
      "Arrest Passenger    0.001281\n",
      "No Action           0.001068\n",
      "N/D                 0.000976\n",
      "Name: stop_outcome, dtype: float64\n"
     ]
    }
   ],
   "source": [
    "# Compute the stop outcomes for female drivers (as proportions)\n",
    "print(female_and_speeding.stop_outcome.value_counts(normalize=True))\n",
    "\n",
    "# Compute the stop outcomes for male drivers (as proportions)\n",
    "print(male_and_speeding.stop_outcome.value_counts(normalize=True))"
   ]
  },
  {
   "cell_type": "code",
   "execution_count": 30,
   "metadata": {},
   "outputs": [],
   "source": [
    "# Create a DataFrame of female drivers arrested\n",
    "female_and_arrested = ri[(ri.driver_gender=='F') & (ri.is_arrested==True)]\n",
    "\n",
    "# Create a DataFrame of male drivers \n",
    "male_and_arrested = ri[(ri.driver_gender=='M') & (ri.is_arrested==True)]"
   ]
  },
  {
   "cell_type": "code",
   "execution_count": 32,
   "metadata": {},
   "outputs": [
    {
     "data": {
      "text/plain": [
       "(669, 13)"
      ]
     },
     "execution_count": 32,
     "metadata": {},
     "output_type": "execute_result"
    }
   ],
   "source": [
    "female_and_arrested.shape # only female drivers"
   ]
  },
  {
   "cell_type": "code",
   "execution_count": 33,
   "metadata": {},
   "outputs": [],
   "source": [
    "# Create a DataFrame of female drivers arrested\n",
    "female_or_arrested = ri[(ri.driver_gender=='F') | (ri.is_arrested==True)]\n",
    "\n",
    "# Create a DataFrame of male drivers\n",
    "male_or_arrested = ri[(ri.driver_gender=='M') | (ri.is_arrested==True)]"
   ]
  },
  {
   "cell_type": "code",
   "execution_count": 34,
   "metadata": {},
   "outputs": [
    {
     "data": {
      "text/plain": [
       "(26183, 13)"
      ]
     },
     "execution_count": 34,
     "metadata": {},
     "output_type": "execute_result"
    }
   ],
   "source": [
    "female_or_arrested.shape # all female "
   ]
  },
  {
   "cell_type": "code",
   "execution_count": 35,
   "metadata": {},
   "outputs": [
    {
     "name": "stdout",
     "output_type": "stream",
     "text": [
      "bool\n"
     ]
    }
   ],
   "source": [
    "print(ri.search_conducted.dtype)"
   ]
  },
  {
   "cell_type": "code",
   "execution_count": 36,
   "metadata": {},
   "outputs": [
    {
     "name": "stdout",
     "output_type": "stream",
     "text": [
      "False    0.961785\n",
      "True     0.038215\n",
      "Name: search_conducted, dtype: float64\n"
     ]
    }
   ],
   "source": [
    "# Calculate the search rate by counting the values\n",
    "print(ri.search_conducted.value_counts(normalize=True))"
   ]
  },
  {
   "cell_type": "code",
   "execution_count": 37,
   "metadata": {},
   "outputs": [
    {
     "name": "stdout",
     "output_type": "stream",
     "text": [
      "0.0382153092354627\n"
     ]
    }
   ],
   "source": [
    "\n",
    "# Calculate the search rate by taking the mean\n",
    "print(ri.search_conducted.mean())"
   ]
  },
  {
   "cell_type": "code",
   "execution_count": 38,
   "metadata": {},
   "outputs": [
    {
     "name": "stdout",
     "output_type": "stream",
     "text": [
      "0.019180617481282074\n"
     ]
    }
   ],
   "source": [
    "# Calculate the search rate for female drivers\n",
    "print(ri[ri.driver_gender=='F'].search_conducted.mean())"
   ]
  },
  {
   "cell_type": "code",
   "execution_count": 39,
   "metadata": {},
   "outputs": [
    {
     "name": "stdout",
     "output_type": "stream",
     "text": [
      "0.04542557598546892\n"
     ]
    }
   ],
   "source": [
    "# Calculate the search rate for male drivers\n",
    "print(ri[ri.driver_gender=='M'].search_conducted.mean())"
   ]
  },
  {
   "cell_type": "code",
   "execution_count": 40,
   "metadata": {},
   "outputs": [
    {
     "name": "stdout",
     "output_type": "stream",
     "text": [
      "driver_gender\n",
      "F    0.019181\n",
      "M    0.045426\n",
      "Name: search_conducted, dtype: float64\n"
     ]
    }
   ],
   "source": [
    "\n",
    "# Calculate the search rate for both groups simultaneously\n",
    "print(ri.groupby('driver_gender').search_conducted.mean())"
   ]
  },
  {
   "cell_type": "code",
   "execution_count": 41,
   "metadata": {},
   "outputs": [
    {
     "data": {
      "text/plain": [
       "array(['Zone X4', 'Zone K3', 'Zone X1', 'Zone X3', 'Zone K1', 'Zone K2'],\n",
       "      dtype=object)"
      ]
     },
     "execution_count": 41,
     "metadata": {},
     "output_type": "execute_result"
    }
   ],
   "source": [
    "ri.district.unique()"
   ]
  },
  {
   "cell_type": "code",
   "execution_count": 42,
   "metadata": {},
   "outputs": [
    {
     "data": {
      "text/plain": [
       "False    0.964431\n",
       "True     0.035569\n",
       "Name: is_arrested, dtype: float64"
      ]
     },
     "execution_count": 42,
     "metadata": {},
     "output_type": "execute_result"
    }
   ],
   "source": [
    "ri.is_arrested.value_counts(normalize= True)"
   ]
  },
  {
   "cell_type": "code",
   "execution_count": 43,
   "metadata": {},
   "outputs": [
    {
     "data": {
      "text/plain": [
       "0.0355690117407784"
      ]
     },
     "execution_count": 43,
     "metadata": {},
     "output_type": "execute_result"
    }
   ],
   "source": [
    "ri.is_arrested.mean()"
   ]
  },
  {
   "cell_type": "code",
   "execution_count": 45,
   "metadata": {},
   "outputs": [
    {
     "data": {
      "text/plain": [
       "0.03487078026462223"
      ]
     },
     "execution_count": 45,
     "metadata": {},
     "output_type": "execute_result"
    }
   ],
   "source": [
    "ri[ri.district=='Zone X3'].is_arrested.mean()"
   ]
  },
  {
   "cell_type": "code",
   "execution_count": 46,
   "metadata": {},
   "outputs": [
    {
     "data": {
      "text/plain": [
       "district\n",
       "Zone K1    0.024349\n",
       "Zone K2    0.030801\n",
       "Zone K3    0.032311\n",
       "Zone X1    0.023494\n",
       "Zone X3    0.034871\n",
       "Zone X4    0.048038\n",
       "Name: is_arrested, dtype: float64"
      ]
     },
     "execution_count": 46,
     "metadata": {},
     "output_type": "execute_result"
    }
   ],
   "source": [
    "ri.groupby('district').is_arrested.mean()"
   ]
  },
  {
   "cell_type": "code",
   "execution_count": 47,
   "metadata": {},
   "outputs": [
    {
     "data": {
      "text/plain": [
       "district  driver_gender\n",
       "Zone K1   F                0.019169\n",
       "          M                0.026588\n",
       "Zone K2   F                0.022196\n",
       "          M                0.034285\n",
       "Zone K3   F                0.025156\n",
       "          M                0.034961\n",
       "Zone X1   F                0.019646\n",
       "          M                0.024563\n",
       "Zone X3   F                0.027188\n",
       "          M                0.038166\n",
       "Zone X4   F                0.042149\n",
       "          M                0.049956\n",
       "Name: is_arrested, dtype: float64"
      ]
     },
     "execution_count": 47,
     "metadata": {},
     "output_type": "execute_result"
    }
   ],
   "source": [
    "ri.groupby(['district','driver_gender']).is_arrested.mean()"
   ]
  },
  {
   "cell_type": "code",
   "execution_count": 48,
   "metadata": {},
   "outputs": [
    {
     "name": "stdout",
     "output_type": "stream",
     "text": [
      "bool\n"
     ]
    }
   ],
   "source": [
    "# Check the data type of 'search_conducted'\n",
    "print(ri.search_conducted.dtype)"
   ]
  },
  {
   "cell_type": "code",
   "execution_count": 49,
   "metadata": {},
   "outputs": [
    {
     "name": "stdout",
     "output_type": "stream",
     "text": [
      "False    0.961785\n",
      "True     0.038215\n",
      "Name: search_conducted, dtype: float64\n"
     ]
    }
   ],
   "source": [
    "# Calculate the search rate by counting the values\n",
    "print(ri.search_conducted.value_counts(normalize=True))"
   ]
  },
  {
   "cell_type": "code",
   "execution_count": 50,
   "metadata": {},
   "outputs": [
    {
     "name": "stdout",
     "output_type": "stream",
     "text": [
      "0.0382153092354627\n"
     ]
    }
   ],
   "source": [
    "#calculate the search rate by taking the mean\n",
    "print(ri.search_conducted.mean())"
   ]
  },
  {
   "cell_type": "code",
   "execution_count": 51,
   "metadata": {},
   "outputs": [
    {
     "name": "stdout",
     "output_type": "stream",
     "text": [
      "0.019180617481282074\n"
     ]
    }
   ],
   "source": [
    "# Calculate the search rate for female drivers\n",
    "print(ri[ri.driver_gender=='F'].search_conducted.mean())"
   ]
  },
  {
   "cell_type": "code",
   "execution_count": 52,
   "metadata": {},
   "outputs": [
    {
     "name": "stdout",
     "output_type": "stream",
     "text": [
      "driver_gender\n",
      "F    0.019181\n",
      "M    0.045426\n",
      "Name: search_conducted, dtype: float64\n"
     ]
    }
   ],
   "source": [
    "# Calculate the search rate for both groups simultaneously\n",
    "print(ri.groupby('driver_gender').search_conducted.mean())"
   ]
  },
  {
   "cell_type": "code",
   "execution_count": 53,
   "metadata": {},
   "outputs": [
    {
     "name": "stdout",
     "output_type": "stream",
     "text": [
      "driver_gender  violation          \n",
      "F              Equipment              0.039984\n",
      "               Moving violation       0.039257\n",
      "               Other                  0.041018\n",
      "               Registration/plates    0.054924\n",
      "               Seat belt              0.017301\n",
      "               Speeding               0.008309\n",
      "M              Equipment              0.071496\n",
      "               Moving violation       0.061524\n",
      "               Other                  0.046191\n",
      "               Registration/plates    0.108802\n",
      "               Seat belt              0.035119\n",
      "               Speeding               0.027885\n",
      "Name: search_conducted, dtype: float64\n"
     ]
    }
   ],
   "source": [
    "# Calculate the search rate for each combination of gender and violation\n",
    "print(ri.groupby(['driver_gender', 'violation']).search_conducted.mean())"
   ]
  },
  {
   "cell_type": "code",
   "execution_count": 54,
   "metadata": {},
   "outputs": [
    {
     "name": "stdout",
     "output_type": "stream",
     "text": [
      "Incident to Arrest                                          1290\n",
      "Probable Cause                                               924\n",
      "Inventory                                                    219\n",
      "Reasonable Suspicion                                         214\n",
      "Protective Frisk                                             164\n",
      "Incident to Arrest,Inventory                                 123\n",
      "Incident to Arrest,Probable Cause                            100\n",
      "Probable Cause,Reasonable Suspicion                           54\n",
      "Incident to Arrest,Inventory,Probable Cause                   35\n",
      "Probable Cause,Protective Frisk                               35\n",
      "Incident to Arrest,Protective Frisk                           33\n",
      "Inventory,Probable Cause                                      25\n",
      "Protective Frisk,Reasonable Suspicion                         19\n",
      "Incident to Arrest,Inventory,Protective Frisk                 18\n",
      "Incident to Arrest,Probable Cause,Protective Frisk            13\n",
      "Inventory,Protective Frisk                                    12\n",
      "Incident to Arrest,Reasonable Suspicion                        8\n",
      "Incident to Arrest,Probable Cause,Reasonable Suspicion         5\n",
      "Probable Cause,Protective Frisk,Reasonable Suspicion           5\n",
      "Incident to Arrest,Inventory,Reasonable Suspicion              4\n",
      "Incident to Arrest,Protective Frisk,Reasonable Suspicion       2\n",
      "Inventory,Reasonable Suspicion                                 2\n",
      "Inventory,Protective Frisk,Reasonable Suspicion                1\n",
      "Inventory,Probable Cause,Protective Frisk                      1\n",
      "Inventory,Probable Cause,Reasonable Suspicion                  1\n",
      "Name: search_type, dtype: int64\n"
     ]
    }
   ],
   "source": [
    "\n",
    "# Count the 'search_type' values\n",
    "print(ri.search_type.value_counts())"
   ]
  },
  {
   "cell_type": "code",
   "execution_count": 55,
   "metadata": {},
   "outputs": [],
   "source": [
    "ri['frisk'] = ri.search_type.str.contains('Protective Frisk', na=False)\n"
   ]
  },
  {
   "cell_type": "code",
   "execution_count": 56,
   "metadata": {},
   "outputs": [
    {
     "name": "stdout",
     "output_type": "stream",
     "text": [
      "bool\n"
     ]
    }
   ],
   "source": [
    "print(ri.frisk.dtype)"
   ]
  },
  {
   "cell_type": "code",
   "execution_count": 57,
   "metadata": {},
   "outputs": [
    {
     "name": "stdout",
     "output_type": "stream",
     "text": [
      "303\n"
     ]
    }
   ],
   "source": [
    "\n",
    "# Take the sum of 'frisk'\n",
    "print(ri.frisk.sum())"
   ]
  },
  {
   "cell_type": "code",
   "execution_count": 58,
   "metadata": {},
   "outputs": [],
   "source": [
    "\n",
    "# Create a DataFrame of stops in which a search was conducted\n",
    "searched = ri[ri.search_conducted]"
   ]
  },
  {
   "cell_type": "code",
   "execution_count": 59,
   "metadata": {},
   "outputs": [
    {
     "name": "stdout",
     "output_type": "stream",
     "text": [
      "0.09162382824312065\n"
     ]
    }
   ],
   "source": [
    "# Calculate the overall frisk rate by taking the mean of 'frisk'\n",
    "print(searched.frisk.mean())"
   ]
  },
  {
   "cell_type": "code",
   "execution_count": 60,
   "metadata": {},
   "outputs": [
    {
     "name": "stdout",
     "output_type": "stream",
     "text": [
      "driver_gender\n",
      "F    0.074561\n",
      "M    0.094353\n",
      "Name: frisk, dtype: float64\n"
     ]
    }
   ],
   "source": [
    "# Calculate the frisk rate for each gender\n",
    "print(searched.groupby('driver_gender').frisk.mean())"
   ]
  },
  {
   "cell_type": "code",
   "execution_count": 61,
   "metadata": {},
   "outputs": [
    {
     "name": "stdout",
     "output_type": "stream",
     "text": [
      "stop_datetime\n",
      "0     0.051431\n",
      "1     0.064932\n",
      "2     0.060798\n",
      "3     0.060549\n",
      "4     0.048000\n",
      "5     0.042781\n",
      "6     0.013813\n",
      "7     0.013032\n",
      "8     0.021854\n",
      "9     0.025206\n",
      "10    0.028213\n",
      "11    0.028897\n",
      "12    0.037399\n",
      "13    0.030776\n",
      "14    0.030605\n",
      "15    0.030679\n",
      "16    0.035281\n",
      "17    0.040619\n",
      "18    0.038204\n",
      "19    0.032245\n",
      "20    0.038107\n",
      "21    0.064541\n",
      "22    0.048666\n",
      "23    0.047592\n",
      "Name: is_arrested, dtype: float64\n"
     ]
    }
   ],
   "source": [
    "# Calculate the hourly arrest rate\n",
    "print(ri.groupby(ri.index.hour).is_arrested.mean())"
   ]
  },
  {
   "cell_type": "code",
   "execution_count": 62,
   "metadata": {},
   "outputs": [],
   "source": [
    "# Save the hourly arrest rate\n",
    "hourly_arrest_rate = ri.groupby(ri.index.hour).is_arrested.mean()"
   ]
  },
  {
   "cell_type": "code",
   "execution_count": 63,
   "metadata": {},
   "outputs": [
    {
     "data": {
      "image/png": "[encoded data removed]",
      "text/plain": [
       "<Figure size 432x288 with 1 Axes>"
      ]
     },
     "metadata": {
      "needs_background": "light"
     },
     "output_type": "display_data"
    }
   ],
   "source": [
    "import matplotlib.pyplot as plt\n",
    "\n",
    "# Create a line plot of 'hourly_arrest_rate'\n",
    "hourly_arrest_rate.plot()\n",
    "\n",
    "# Add the xlabel, ylabel, and title\n",
    "plt.xlabel('Hour')\n",
    "plt.ylabel('Arrest Rate')\n",
    "plt.title('Arrest Rate by Time of Day')\n",
    "\n",
    "# Display the plot\n",
    "plt.show()"
   ]
  },
  {
   "cell_type": "code",
   "execution_count": 65,
   "metadata": {},
   "outputs": [
    {
     "name": "stdout",
     "output_type": "stream",
     "text": [
      "stop_datetime\n",
      "2005-12-31    0.006501\n",
      "2006-12-31    0.007258\n",
      "2007-12-31    0.007970\n",
      "2008-12-31    0.007505\n",
      "2009-12-31    0.009889\n",
      "2010-12-31    0.010081\n",
      "2011-12-31    0.009731\n",
      "2012-12-31    0.009921\n",
      "2013-12-31    0.013094\n",
      "2014-12-31    0.013826\n",
      "2015-12-31    0.012266\n",
      "Freq: A-DEC, Name: drugs_related_stop, dtype: float64\n"
     ]
    }
   ],
   "source": [
    " #Calculate the annual rate of drug-related stops\n",
    "print(ri.drugs_related_stop.resample('A').mean())"
   ]
  },
  {
   "cell_type": "code",
   "execution_count": 66,
   "metadata": {},
   "outputs": [],
   "source": [
    "#  Save the annual rate of drug-related stops\n",
    "annual_drug_rate = ri.drugs_related_stop.resample('A').mean()"
   ]
  },
  {
   "cell_type": "code",
   "execution_count": 67,
   "metadata": {},
   "outputs": [
    {
     "data": {
      "image/png": "[encoded data removed]",
      "text/plain": [
       "<Figure size 432x288 with 1 Axes>"
      ]
     },
     "metadata": {
      "needs_background": "light"
     },
     "output_type": "display_data"
    }
   ],
   "source": [
    "\n",
    "# Create a line plot of 'annual_drug_rate'\n",
    "annual_drug_rate.plot()\n",
    "\n",
    "# Display the plot\n",
    "plt.show()"
   ]
  },
  {
   "cell_type": "code",
   "execution_count": 68,
   "metadata": {},
   "outputs": [],
   "source": [
    "# Calculate and save the annual search rate\n",
    "#annual_search_rate = ri.search_conducted.resample('A').mean()\n",
    "annual_search_rate = ri.search_conducted.dropna().astype('int').resample('A').mean()"
   ]
  },
  {
   "cell_type": "code",
   "execution_count": 69,
   "metadata": {},
   "outputs": [],
   "source": [
    "# Concatenate 'annual_drug_rate' and 'annual_search_rate'\n",
    "annual = pd.concat([annual_drug_rate, annual_search_rate], axis='columns')"
   ]
  },
  {
   "cell_type": "code",
   "execution_count": 70,
   "metadata": {},
   "outputs": [
    {
     "data": {
      "image/png": "[encoded data removed]",
      "text/plain": [
       "<Figure size 432x288 with 2 Axes>"
      ]
     },
     "metadata": {
      "needs_background": "light"
     },
     "output_type": "display_data"
    }
   ],
   "source": [
    "# Create subplots from 'annual'\n",
    "annual.plot(subplots=True)\n",
    "\n",
    "# Display the subplots\n",
    "plt.show()"
   ]
  },
  {
   "cell_type": "code",
   "execution_count": 71,
   "metadata": {},
   "outputs": [
    {
     "name": "stdout",
     "output_type": "stream",
     "text": [
      "violation  Equipment  Moving violation  Other  Registration/plates  Seat belt  \\\n",
      "district                                                                        \n",
      "Zone K1          672              1254    290                  120          0   \n",
      "Zone K2         2061              2962    942                  768        481   \n",
      "Zone K3         2302              2898    705                  695        638   \n",
      "Zone X1          296               671    143                   38         74   \n",
      "Zone X3         2049              3086    769                  671        820   \n",
      "Zone X4         3541              5353   1560                 1411        843   \n",
      "\n",
      "violation  Speeding  \n",
      "district             \n",
      "Zone K1        5960  \n",
      "Zone K2       10448  \n",
      "Zone K3       12322  \n",
      "Zone X1        1119  \n",
      "Zone X3        8779  \n",
      "Zone X4        9795  \n"
     ]
    }
   ],
   "source": [
    "# Create a frequency table of districts and violations\n",
    "print(pd.crosstab(ri.district, ri.violation))"
   ]
  },
  {
   "cell_type": "code",
   "execution_count": 72,
   "metadata": {},
   "outputs": [],
   "source": [
    "# Save the frequency table as 'all_zones'\n",
    "all_zones = pd.crosstab(ri.district, ri.violation)"
   ]
  },
  {
   "cell_type": "code",
   "execution_count": 73,
   "metadata": {},
   "outputs": [
    {
     "name": "stdout",
     "output_type": "stream",
     "text": [
      "violation  Equipment  Moving violation  Other  Registration/plates  Seat belt  \\\n",
      "district                                                                        \n",
      "Zone K1          672              1254    290                  120          0   \n",
      "Zone K2         2061              2962    942                  768        481   \n",
      "Zone K3         2302              2898    705                  695        638   \n",
      "\n",
      "violation  Speeding  \n",
      "district             \n",
      "Zone K1        5960  \n",
      "Zone K2       10448  \n",
      "Zone K3       12322  \n"
     ]
    }
   ],
   "source": [
    "\n",
    "# Select rows 'Zone K1' through 'Zone K3'\n",
    "print(all_zones.loc['Zone K1':'Zone K3'])"
   ]
  },
  {
   "cell_type": "code",
   "execution_count": 74,
   "metadata": {},
   "outputs": [],
   "source": [
    "\n",
    "# Save the smaller table as 'k_zones'\n",
    "k_zones = all_zones.loc['Zone K1':'Zone K3']"
   ]
  },
  {
   "cell_type": "code",
   "execution_count": 75,
   "metadata": {},
   "outputs": [
    {
     "data": {
      "image/png": "[encoded data removed]",
      "text/plain": [
       "<Figure size 432x288 with 1 Axes>"
      ]
     },
     "metadata": {
      "needs_background": "light"
     },
     "output_type": "display_data"
    }
   ],
   "source": [
    "\n",
    "# Create a bar plot of 'k_zones'\n",
    "k_zones.plot(kind='bar')\n",
    "\n",
    "# Display the plot\n",
    "plt.show()"
   ]
  },
  {
   "cell_type": "code",
   "execution_count": 76,
   "metadata": {},
   "outputs": [
    {
     "data": {
      "image/png": "[encoded data removed]",
      "text/plain": [
       "<Figure size 432x288 with 1 Axes>"
      ]
     },
     "metadata": {
      "needs_background": "light"
     },
     "output_type": "display_data"
    }
   ],
   "source": [
    "# Create a stacked bar plot of 'k_zones'\n",
    "k_zones.plot(kind='bar', stacked=True)\n",
    "\n",
    "# Display the plot\n",
    "plt.show()"
   ]
  },
  {
   "cell_type": "code",
   "execution_count": 77,
   "metadata": {},
   "outputs": [
    {
     "name": "stdout",
     "output_type": "stream",
     "text": [
      "['0-15 Min' '16-30 Min' '30+ Min']\n"
     ]
    }
   ],
   "source": [
    "\n",
    "# Print the unique values in 'stop_duration'\n",
    "print(ri.stop_duration.unique())"
   ]
  },
  {
   "cell_type": "code",
   "execution_count": 78,
   "metadata": {},
   "outputs": [],
   "source": [
    "# Create a dictionary that maps strings to integers\n",
    "mapping = {'0-15 Min': 8, '16-30 Min':23, '30+ Min': 45}"
   ]
  },
  {
   "cell_type": "code",
   "execution_count": 79,
   "metadata": {},
   "outputs": [],
   "source": [
    "# Convert the 'stop_duration' strings to integers using the 'mapping'\n",
    "ri['stop_minutes'] = ri.stop_duration.map(mapping)"
   ]
  },
  {
   "cell_type": "code",
   "execution_count": 80,
   "metadata": {},
   "outputs": [
    {
     "name": "stdout",
     "output_type": "stream",
     "text": [
      "[ 8 23 45]\n"
     ]
    }
   ],
   "source": [
    "# Print the unique values in 'stop_minutes'\n",
    "print(ri.stop_minutes.unique())"
   ]
  },
  {
   "cell_type": "code",
   "execution_count": 81,
   "metadata": {},
   "outputs": [
    {
     "name": "stdout",
     "output_type": "stream",
     "text": [
      "violation_raw\n",
      "APB                                 17.967033\n",
      "Call for Service                    22.124371\n",
      "Equipment/Inspection Violation      11.445655\n",
      "Motorist Assist/Courtesy            17.741463\n",
      "Other Traffic Violation             13.844490\n",
      "Registration Violation              13.736970\n",
      "Seatbelt Violation                   9.662815\n",
      "Special Detail/Directed Patrol      15.123632\n",
      "Speeding                            10.581562\n",
      "Suspicious Person                   14.910714\n",
      "Violation of City/Town Ordinance    13.254144\n",
      "Warrant                             24.055556\n",
      "Name: stop_minutes, dtype: float64\n"
     ]
    }
   ],
   "source": [
    "# Calculate the mean 'stop_minutes' for each value in 'violation_raw'\n",
    "print(ri.groupby('violation_raw').stop_minutes.mean())"
   ]
  },
  {
   "cell_type": "code",
   "execution_count": 82,
   "metadata": {},
   "outputs": [],
   "source": [
    "# Save the resulting Series as 'stop_length'\n",
    "stop_length = ri.groupby('violation_raw').stop_minutes.mean()"
   ]
  },
  {
   "cell_type": "code",
   "execution_count": 86,
   "metadata": {},
   "outputs": [
    {
     "data": {
      "image/png": "[encoded data removed]",
      "text/plain": [
       "<Figure size 432x288 with 1 Axes>"
      ]
     },
     "metadata": {
      "needs_background": "light"
     },
     "output_type": "display_data"
    }
   ],
   "source": [
    "# Sort 'stop_length' by its values and create a horizontal bar plot\n",
    "stop_length.sort_values().plot(kind='barh')\n",
    "\n",
    "# Display the plot\n",
    "plt.show()"
   ]
  },
  {
   "cell_type": "code",
   "execution_count": 87,
   "metadata": {},
   "outputs": [
    {
     "data": {
      "text/html": [
       "<div>\n",
       "<style scoped>\n",
       "    .dataframe tbody tr th:only-of-type {\n",
       "        vertical-align: middle;\n",
       "    }\n",
       "\n",
       "    .dataframe tbody tr th {\n",
       "        vertical-align: top;\n",
       "    }\n",
       "\n",
       "    .dataframe thead th {\n",
       "        text-align: right;\n",
       "    }\n",
       "</style>\n",
       "<table border=\"1\" class=\"dataframe\">\n",
       "  <thead>\n",
       "    <tr style=\"text-align: right;\">\n",
       "      <th></th>\n",
       "      <th>STATION</th>\n",
       "      <th>DATE</th>\n",
       "      <th>TAVG</th>\n",
       "      <th>TMIN</th>\n",
       "      <th>TMAX</th>\n",
       "      <th>AWND</th>\n",
       "      <th>WSF2</th>\n",
       "      <th>WT01</th>\n",
       "      <th>WT02</th>\n",
       "      <th>WT03</th>\n",
       "      <th>...</th>\n",
       "      <th>WT11</th>\n",
       "      <th>WT13</th>\n",
       "      <th>WT14</th>\n",
       "      <th>WT15</th>\n",
       "      <th>WT16</th>\n",
       "      <th>WT17</th>\n",
       "      <th>WT18</th>\n",
       "      <th>WT19</th>\n",
       "      <th>WT21</th>\n",
       "      <th>WT22</th>\n",
       "    </tr>\n",
       "  </thead>\n",
       "  <tbody>\n",
       "    <tr>\n",
       "      <th>0</th>\n",
       "      <td>USW00014765</td>\n",
       "      <td>2005-01-01</td>\n",
       "      <td>44.0</td>\n",
       "      <td>35</td>\n",
       "      <td>53</td>\n",
       "      <td>8.95</td>\n",
       "      <td>25.1</td>\n",
       "      <td>1.0</td>\n",
       "      <td>NaN</td>\n",
       "      <td>NaN</td>\n",
       "      <td>...</td>\n",
       "      <td>NaN</td>\n",
       "      <td>1.0</td>\n",
       "      <td>NaN</td>\n",
       "      <td>NaN</td>\n",
       "      <td>NaN</td>\n",
       "      <td>NaN</td>\n",
       "      <td>NaN</td>\n",
       "      <td>NaN</td>\n",
       "      <td>NaN</td>\n",
       "      <td>NaN</td>\n",
       "    </tr>\n",
       "    <tr>\n",
       "      <th>1</th>\n",
       "      <td>USW00014765</td>\n",
       "      <td>2005-01-02</td>\n",
       "      <td>36.0</td>\n",
       "      <td>28</td>\n",
       "      <td>44</td>\n",
       "      <td>9.40</td>\n",
       "      <td>14.1</td>\n",
       "      <td>NaN</td>\n",
       "      <td>NaN</td>\n",
       "      <td>NaN</td>\n",
       "      <td>...</td>\n",
       "      <td>NaN</td>\n",
       "      <td>NaN</td>\n",
       "      <td>NaN</td>\n",
       "      <td>NaN</td>\n",
       "      <td>1.0</td>\n",
       "      <td>NaN</td>\n",
       "      <td>1.0</td>\n",
       "      <td>NaN</td>\n",
       "      <td>NaN</td>\n",
       "      <td>NaN</td>\n",
       "    </tr>\n",
       "    <tr>\n",
       "      <th>2</th>\n",
       "      <td>USW00014765</td>\n",
       "      <td>2005-01-03</td>\n",
       "      <td>49.0</td>\n",
       "      <td>44</td>\n",
       "      <td>53</td>\n",
       "      <td>6.93</td>\n",
       "      <td>17.0</td>\n",
       "      <td>1.0</td>\n",
       "      <td>NaN</td>\n",
       "      <td>NaN</td>\n",
       "      <td>...</td>\n",
       "      <td>NaN</td>\n",
       "      <td>1.0</td>\n",
       "      <td>NaN</td>\n",
       "      <td>NaN</td>\n",
       "      <td>1.0</td>\n",
       "      <td>NaN</td>\n",
       "      <td>NaN</td>\n",
       "      <td>NaN</td>\n",
       "      <td>NaN</td>\n",
       "      <td>NaN</td>\n",
       "    </tr>\n",
       "    <tr>\n",
       "      <th>3</th>\n",
       "      <td>USW00014765</td>\n",
       "      <td>2005-01-04</td>\n",
       "      <td>42.0</td>\n",
       "      <td>39</td>\n",
       "      <td>45</td>\n",
       "      <td>6.93</td>\n",
       "      <td>16.1</td>\n",
       "      <td>1.0</td>\n",
       "      <td>NaN</td>\n",
       "      <td>NaN</td>\n",
       "      <td>...</td>\n",
       "      <td>NaN</td>\n",
       "      <td>1.0</td>\n",
       "      <td>1.0</td>\n",
       "      <td>NaN</td>\n",
       "      <td>1.0</td>\n",
       "      <td>NaN</td>\n",
       "      <td>NaN</td>\n",
       "      <td>NaN</td>\n",
       "      <td>NaN</td>\n",
       "      <td>NaN</td>\n",
       "    </tr>\n",
       "    <tr>\n",
       "      <th>4</th>\n",
       "      <td>USW00014765</td>\n",
       "      <td>2005-01-05</td>\n",
       "      <td>36.0</td>\n",
       "      <td>28</td>\n",
       "      <td>43</td>\n",
       "      <td>7.83</td>\n",
       "      <td>17.0</td>\n",
       "      <td>1.0</td>\n",
       "      <td>NaN</td>\n",
       "      <td>NaN</td>\n",
       "      <td>...</td>\n",
       "      <td>NaN</td>\n",
       "      <td>1.0</td>\n",
       "      <td>NaN</td>\n",
       "      <td>NaN</td>\n",
       "      <td>1.0</td>\n",
       "      <td>NaN</td>\n",
       "      <td>1.0</td>\n",
       "      <td>NaN</td>\n",
       "      <td>NaN</td>\n",
       "      <td>NaN</td>\n",
       "    </tr>\n",
       "  </tbody>\n",
       "</table>\n",
       "<p>5 rows × 27 columns</p>\n",
       "</div>"
      ],
      "text/plain": [
       "       STATION        DATE  TAVG  TMIN  TMAX  AWND  WSF2  WT01  WT02  WT03  \\\n",
       "0  USW00014765  2005-01-01  44.0    35    53  8.95  25.1   1.0   NaN   NaN   \n",
       "1  USW00014765  2005-01-02  36.0    28    44  9.40  14.1   NaN   NaN   NaN   \n",
       "2  USW00014765  2005-01-03  49.0    44    53  6.93  17.0   1.0   NaN   NaN   \n",
       "3  USW00014765  2005-01-04  42.0    39    45  6.93  16.1   1.0   NaN   NaN   \n",
       "4  USW00014765  2005-01-05  36.0    28    43  7.83  17.0   1.0   NaN   NaN   \n",
       "\n",
       "   ...  WT11  WT13  WT14  WT15  WT16  WT17  WT18  WT19  WT21  WT22  \n",
       "0  ...   NaN   1.0   NaN   NaN   NaN   NaN   NaN   NaN   NaN   NaN  \n",
       "1  ...   NaN   NaN   NaN   NaN   1.0   NaN   1.0   NaN   NaN   NaN  \n",
       "2  ...   NaN   1.0   NaN   NaN   1.0   NaN   NaN   NaN   NaN   NaN  \n",
       "3  ...   NaN   1.0   1.0   NaN   1.0   NaN   NaN   NaN   NaN   NaN  \n",
       "4  ...   NaN   1.0   NaN   NaN   1.0   NaN   1.0   NaN   NaN   NaN  \n",
       "\n",
       "[5 rows x 27 columns]"
      ]
     },
     "execution_count": 87,
     "metadata": {},
     "output_type": "execute_result"
    }
   ],
   "source": [
    "\n",
    "import pandas as pd\n",
    "import matplotlib.pyplot as plt\n",
    "\n",
    "# Read 'weather.csv' into a DataFrame named 'weather'\n",
    "weather = pd.read_csv('weather.csv')\n",
    "weather.head()"
   ]
  },
  {
   "cell_type": "code",
   "execution_count": 88,
   "metadata": {},
   "outputs": [
    {
     "name": "stdout",
     "output_type": "stream",
     "text": [
      "              TMIN         TAVG         TMAX\n",
      "count  4017.000000  1217.000000  4017.000000\n",
      "mean     43.484441    52.493016    61.268608\n",
      "std      17.020298    17.830714    18.199517\n",
      "min      -5.000000     6.000000    15.000000\n",
      "25%      30.000000    39.000000    47.000000\n",
      "50%      44.000000    54.000000    62.000000\n",
      "75%      58.000000    68.000000    77.000000\n",
      "max      77.000000    86.000000   102.000000\n"
     ]
    }
   ],
   "source": [
    "print(weather[['TMIN', 'TAVG', 'TMAX']].describe())"
   ]
  },
  {
   "cell_type": "code",
   "execution_count": 89,
   "metadata": {},
   "outputs": [
    {
     "data": {
      "image/png": "[encoded data removed]",
      "text/plain": [
       "<Figure size 432x288 with 1 Axes>"
      ]
     },
     "metadata": {
      "needs_background": "light"
     },
     "output_type": "display_data"
    }
   ],
   "source": [
    "# Create a box plot of the temperature columns\n",
    "weather[['TMIN', 'TAVG', 'TMAX']].plot(kind='box')\n",
    "\n",
    "# Display the plot\n",
    "plt.show()"
   ]
  },
  {
   "cell_type": "code",
   "execution_count": 90,
   "metadata": {},
   "outputs": [],
   "source": [
    "\n",
    "# Create a 'TDIFF' column that represents temperature difference\n",
    "weather['TDIFF'] = weather['TMAX'] - weather['TMIN']"
   ]
  },
  {
   "cell_type": "code",
   "execution_count": 91,
   "metadata": {},
   "outputs": [
    {
     "name": "stdout",
     "output_type": "stream",
     "text": [
      "count    4017.000000\n",
      "mean       17.784167\n",
      "std         6.350720\n",
      "min         2.000000\n",
      "25%        14.000000\n",
      "50%        18.000000\n",
      "75%        22.000000\n",
      "max        43.000000\n",
      "Name: TDIFF, dtype: float64\n"
     ]
    }
   ],
   "source": [
    "# Describe the 'TDIFF' column\n",
    "print(weather['TDIFF'].describe())"
   ]
  },
  {
   "cell_type": "code",
   "execution_count": 92,
   "metadata": {},
   "outputs": [
    {
     "data": {
      "image/png": "[encoded data removed]",
      "text/plain": [
       "<Figure size 432x288 with 1 Axes>"
      ]
     },
     "metadata": {
      "needs_background": "light"
     },
     "output_type": "display_data"
    }
   ],
   "source": [
    "#  Create a histogram with 20 bins to visualize 'TDIFF'\n",
    "weather.TDIFF.plot(kind='hist', bins=20)\n",
    "\n",
    "# Display the plot\n",
    "plt.show()"
   ]
  },
  {
   "cell_type": "code",
   "execution_count": 93,
   "metadata": {},
   "outputs": [],
   "source": [
    "# Copy 'WT01' through 'WT22' to a new DataFrame\n",
    "WT = weather.loc[:, 'WT01':'WT22']"
   ]
  },
  {
   "cell_type": "code",
   "execution_count": 94,
   "metadata": {},
   "outputs": [],
   "source": [
    "\n",
    "# Calculate the sum of each row in 'WT'\n",
    "weather['bad_conditions'] = WT.sum(axis='columns')"
   ]
  },
  {
   "cell_type": "code",
   "execution_count": 95,
   "metadata": {},
   "outputs": [],
   "source": [
    "# Replace missing values in 'bad_conditions' with '0'\n",
    "weather['bad_conditions'] = weather.bad_conditions.fillna(0).astype('int')"
   ]
  },
  {
   "cell_type": "code",
   "execution_count": 96,
   "metadata": {},
   "outputs": [
    {
     "data": {
      "image/png": "[encoded data removed]",
      "text/plain": [
       "<Figure size 432x288 with 1 Axes>"
      ]
     },
     "metadata": {
      "needs_background": "light"
     },
     "output_type": "display_data"
    }
   ],
   "source": [
    "\n",
    "# Create a histogram to visualize 'bad_conditions'\n",
    "weather.bad_conditions.plot(kind='hist')\n",
    "\n",
    "# Display the plot\n",
    "plt.show()"
   ]
  },
  {
   "cell_type": "code",
   "execution_count": 97,
   "metadata": {},
   "outputs": [
    {
     "name": "stdout",
     "output_type": "stream",
     "text": [
      "0    1749\n",
      "1     613\n",
      "2     367\n",
      "3     380\n",
      "4     476\n",
      "5     282\n",
      "6     101\n",
      "7      41\n",
      "8       4\n",
      "9       4\n",
      "Name: bad_conditions, dtype: int64\n"
     ]
    }
   ],
   "source": [
    "# Count the unique values in 'bad_conditions' and sort the index\n",
    "print(weather.bad_conditions.value_counts().sort_index())"
   ]
  },
  {
   "cell_type": "code",
   "execution_count": 98,
   "metadata": {},
   "outputs": [],
   "source": [
    "# Create a dictionary that maps integers to strings\n",
    "mapping = {0:'good', 1:'bad', 2:'bad', 3:'bad', 4:'bad', 5:'worse', 6:'worse', 7:'worse', 8:'worse', 9:'worse'}"
   ]
  },
  {
   "cell_type": "code",
   "execution_count": 99,
   "metadata": {},
   "outputs": [],
   "source": [
    "# Convert the 'bad_conditions' integers to strings using the 'mapping'\n",
    "weather['rating'] = weather.bad_conditions.map(mapping)"
   ]
  },
  {
   "cell_type": "code",
   "execution_count": 100,
   "metadata": {},
   "outputs": [
    {
     "name": "stdout",
     "output_type": "stream",
     "text": [
      "bad      1836\n",
      "good     1749\n",
      "worse     432\n",
      "Name: rating, dtype: int64\n"
     ]
    }
   ],
   "source": [
    "# Count the unique values in 'rating'\n",
    "print(weather.rating.value_counts())"
   ]
  },
  {
   "cell_type": "code",
   "execution_count": 101,
   "metadata": {},
   "outputs": [],
   "source": [
    "# Create a list of weather ratings in logical order\n",
    "cats = ['good', 'bad', 'worse']"
   ]
  },
  {
   "cell_type": "code",
   "execution_count": 102,
   "metadata": {},
   "outputs": [],
   "source": [
    "# Change the data type of 'rating' to category. *) As for now it is depricated\n",
    "# weather['rating'] = weather.rating.astype('category', ordered=True, categories=cats)\n",
    "# New, recommended style\n",
    "weather['rating'] = pd.Categorical(weather['rating'], ordered=True, categories=cats)"
   ]
  },
  {
   "cell_type": "code",
   "execution_count": 103,
   "metadata": {},
   "outputs": [
    {
     "name": "stdout",
     "output_type": "stream",
     "text": [
      "0    bad\n",
      "1    bad\n",
      "2    bad\n",
      "3    bad\n",
      "4    bad\n",
      "Name: rating, dtype: category\n",
      "Categories (3, object): ['good' < 'bad' < 'worse']\n"
     ]
    }
   ],
   "source": [
    "# Examine the head of 'rating'\n",
    "print(weather.rating.head())"
   ]
  },
  {
   "cell_type": "markdown",
   "metadata": {},
   "source": [
    "#### Merging two dataframe"
   ]
  },
  {
   "cell_type": "code",
   "execution_count": 105,
   "metadata": {},
   "outputs": [
    {
     "name": "stdout",
     "output_type": "stream",
     "text": [
      "        stop_datetime   stop_date stop_time driver_gender driver_race  \\\n",
      "0 2005-01-04 12:55:00  2005-01-04     12:55             M       White   \n",
      "1 2005-01-23 23:15:00  2005-01-23     23:15             M       White   \n",
      "2 2005-02-17 04:15:00  2005-02-17     04:15             M       White   \n",
      "3 2005-02-20 17:15:00  2005-02-20     17:15             M       White   \n",
      "4 2005-02-24 01:20:00  2005-02-24     01:20             F       White   \n",
      "\n",
      "                    violation_raw  violation  search_conducted search_type  \\\n",
      "0  Equipment/Inspection Violation  Equipment             False         NaN   \n",
      "1                        Speeding   Speeding             False         NaN   \n",
      "2                        Speeding   Speeding             False         NaN   \n",
      "3                Call for Service      Other             False         NaN   \n",
      "4                        Speeding   Speeding             False         NaN   \n",
      "\n",
      "    stop_outcome  is_arrested stop_duration  drugs_related_stop district  \\\n",
      "0       Citation        False      0-15 Min               False  Zone X4   \n",
      "1       Citation        False      0-15 Min               False  Zone K3   \n",
      "2       Citation        False      0-15 Min               False  Zone X4   \n",
      "3  Arrest Driver         True     16-30 Min               False  Zone X1   \n",
      "4       Citation        False      0-15 Min               False  Zone X3   \n",
      "\n",
      "   frisk  stop_minutes  \n",
      "0  False             8  \n",
      "1  False             8  \n",
      "2  False             8  \n",
      "3  False            23  \n",
      "4  False             8  \n",
      "         DATE rating\n",
      "0  2005-01-01    bad\n",
      "1  2005-01-02    bad\n",
      "2  2005-01-03    bad\n",
      "3  2005-01-04    bad\n",
      "4  2005-01-05    bad\n"
     ]
    }
   ],
   "source": [
    "# Reset the index of 'ri'\n",
    "ri.reset_index(inplace=True)\n",
    "\n",
    "# Examine the head of 'ri'\n",
    "print(ri.head())\n",
    "\n",
    "# Create a DataFrame from the 'DATE' and 'rating' columns\n",
    "weather_rating = weather[['DATE', 'rating']]\n",
    "\n",
    "# Examine the head of 'weather_rating'\n",
    "print(weather_rating.head())"
   ]
  },
  {
   "cell_type": "code",
   "execution_count": 106,
   "metadata": {},
   "outputs": [
    {
     "name": "stdout",
     "output_type": "stream",
     "text": [
      "(86536, 16)\n",
      "(86536, 18)\n"
     ]
    }
   ],
   "source": [
    "# Examine the shape of 'ri'\n",
    "print(ri.shape)\n",
    "\n",
    "# Merge 'ri' and 'weather_rating' using a left join\n",
    "ri_weather = pd.merge(left=ri, right=weather_rating, left_on='stop_date', right_on='DATE', how='left')\n",
    "\n",
    "# Examine the shape of 'ri_weather'\n",
    "print(ri_weather.shape)\n",
    "\n",
    "# Set 'stop_datetime' as the index of 'ri_weather'\n",
    "ri_weather.set_index('stop_datetime', inplace=True)"
   ]
  },
  {
   "cell_type": "code",
   "execution_count": 107,
   "metadata": {},
   "outputs": [
    {
     "data": {
      "text/plain": [
       "0.0382153092354627"
      ]
     },
     "execution_count": 107,
     "metadata": {},
     "output_type": "execute_result"
    }
   ],
   "source": [
    "ri.search_conducted.mean()"
   ]
  },
  {
   "cell_type": "code",
   "execution_count": 108,
   "metadata": {},
   "outputs": [
    {
     "data": {
      "text/plain": [
       "driver_gender\n",
       "F    0.019181\n",
       "M    0.045426\n",
       "Name: search_conducted, dtype: float64"
      ]
     },
     "execution_count": 108,
     "metadata": {},
     "output_type": "execute_result"
    }
   ],
   "source": [
    "ri.groupby('driver_gender').search_conducted.mean()"
   ]
  },
  {
   "cell_type": "code",
   "execution_count": 109,
   "metadata": {},
   "outputs": [
    {
     "data": {
      "text/plain": [
       "violation            driver_gender\n",
       "Equipment            F                0.039984\n",
       "                     M                0.071496\n",
       "Moving violation     F                0.039257\n",
       "                     M                0.061524\n",
       "Other                F                0.041018\n",
       "                     M                0.046191\n",
       "Registration/plates  F                0.054924\n",
       "                     M                0.108802\n",
       "Seat belt            F                0.017301\n",
       "                     M                0.035119\n",
       "Speeding             F                0.008309\n",
       "                     M                0.027885\n",
       "Name: search_conducted, dtype: float64"
      ]
     },
     "execution_count": 109,
     "metadata": {},
     "output_type": "execute_result"
    }
   ],
   "source": [
    "ri.groupby(['violation','driver_gender']).search_conducted.mean()"
   ]
  },
  {
   "cell_type": "code",
   "execution_count": 110,
   "metadata": {},
   "outputs": [],
   "source": [
    "search_rate = ri.groupby(['violation','driver_gender']).search_conducted.mean()"
   ]
  },
  {
   "cell_type": "code",
   "execution_count": 111,
   "metadata": {},
   "outputs": [
    {
     "data": {
      "text/plain": [
       "pandas.core.series.Series"
      ]
     },
     "execution_count": 111,
     "metadata": {},
     "output_type": "execute_result"
    }
   ],
   "source": [
    "type(search_rate)"
   ]
  },
  {
   "cell_type": "code",
   "execution_count": 112,
   "metadata": {},
   "outputs": [
    {
     "data": {
      "text/plain": [
       "driver_gender\n",
       "F    0.017301\n",
       "M    0.035119\n",
       "Name: search_conducted, dtype: float64"
      ]
     },
     "execution_count": 112,
     "metadata": {},
     "output_type": "execute_result"
    }
   ],
   "source": [
    "search_rate.loc['Seat belt']"
   ]
  },
  {
   "cell_type": "code",
   "execution_count": 113,
   "metadata": {},
   "outputs": [
    {
     "data": {
      "text/plain": [
       "0.03511852502194908"
      ]
     },
     "execution_count": 113,
     "metadata": {},
     "output_type": "execute_result"
    }
   ],
   "source": [
    "search_rate.loc['Seat belt','M']"
   ]
  },
  {
   "cell_type": "code",
   "execution_count": 115,
   "metadata": {},
   "outputs": [
    {
     "data": {
      "text/html": [
       "<div>\n",
       "<style scoped>\n",
       "    .dataframe tbody tr th:only-of-type {\n",
       "        vertical-align: middle;\n",
       "    }\n",
       "\n",
       "    .dataframe tbody tr th {\n",
       "        vertical-align: top;\n",
       "    }\n",
       "\n",
       "    .dataframe thead th {\n",
       "        text-align: right;\n",
       "    }\n",
       "</style>\n",
       "<table border=\"1\" class=\"dataframe\">\n",
       "  <thead>\n",
       "    <tr style=\"text-align: right;\">\n",
       "      <th>driver_gender</th>\n",
       "      <th>F</th>\n",
       "      <th>M</th>\n",
       "    </tr>\n",
       "    <tr>\n",
       "      <th>violation</th>\n",
       "      <th></th>\n",
       "      <th></th>\n",
       "    </tr>\n",
       "  </thead>\n",
       "  <tbody>\n",
       "    <tr>\n",
       "      <th>Equipment</th>\n",
       "      <td>0.039984</td>\n",
       "      <td>0.071496</td>\n",
       "    </tr>\n",
       "    <tr>\n",
       "      <th>Moving violation</th>\n",
       "      <td>0.039257</td>\n",
       "      <td>0.061524</td>\n",
       "    </tr>\n",
       "    <tr>\n",
       "      <th>Other</th>\n",
       "      <td>0.041018</td>\n",
       "      <td>0.046191</td>\n",
       "    </tr>\n",
       "    <tr>\n",
       "      <th>Registration/plates</th>\n",
       "      <td>0.054924</td>\n",
       "      <td>0.108802</td>\n",
       "    </tr>\n",
       "    <tr>\n",
       "      <th>Seat belt</th>\n",
       "      <td>0.017301</td>\n",
       "      <td>0.035119</td>\n",
       "    </tr>\n",
       "    <tr>\n",
       "      <th>Speeding</th>\n",
       "      <td>0.008309</td>\n",
       "      <td>0.027885</td>\n",
       "    </tr>\n",
       "  </tbody>\n",
       "</table>\n",
       "</div>"
      ],
      "text/plain": [
       "driver_gender               F         M\n",
       "violation                              \n",
       "Equipment            0.039984  0.071496\n",
       "Moving violation     0.039257  0.061524\n",
       "Other                0.041018  0.046191\n",
       "Registration/plates  0.054924  0.108802\n",
       "Seat belt            0.017301  0.035119\n",
       "Speeding             0.008309  0.027885"
      ]
     },
     "execution_count": 115,
     "metadata": {},
     "output_type": "execute_result"
    }
   ],
   "source": [
    "search_rate.unstack()"
   ]
  },
  {
   "cell_type": "code",
   "execution_count": 116,
   "metadata": {},
   "outputs": [
    {
     "data": {
      "text/html": [
       "<div>\n",
       "<style scoped>\n",
       "    .dataframe tbody tr th:only-of-type {\n",
       "        vertical-align: middle;\n",
       "    }\n",
       "\n",
       "    .dataframe tbody tr th {\n",
       "        vertical-align: top;\n",
       "    }\n",
       "\n",
       "    .dataframe thead th {\n",
       "        text-align: right;\n",
       "    }\n",
       "</style>\n",
       "<table border=\"1\" class=\"dataframe\">\n",
       "  <thead>\n",
       "    <tr style=\"text-align: right;\">\n",
       "      <th>driver_gender</th>\n",
       "      <th>F</th>\n",
       "      <th>M</th>\n",
       "    </tr>\n",
       "    <tr>\n",
       "      <th>violation</th>\n",
       "      <th></th>\n",
       "      <th></th>\n",
       "    </tr>\n",
       "  </thead>\n",
       "  <tbody>\n",
       "    <tr>\n",
       "      <th>Equipment</th>\n",
       "      <td>0.039984</td>\n",
       "      <td>0.071496</td>\n",
       "    </tr>\n",
       "    <tr>\n",
       "      <th>Moving violation</th>\n",
       "      <td>0.039257</td>\n",
       "      <td>0.061524</td>\n",
       "    </tr>\n",
       "    <tr>\n",
       "      <th>Other</th>\n",
       "      <td>0.041018</td>\n",
       "      <td>0.046191</td>\n",
       "    </tr>\n",
       "    <tr>\n",
       "      <th>Registration/plates</th>\n",
       "      <td>0.054924</td>\n",
       "      <td>0.108802</td>\n",
       "    </tr>\n",
       "    <tr>\n",
       "      <th>Seat belt</th>\n",
       "      <td>0.017301</td>\n",
       "      <td>0.035119</td>\n",
       "    </tr>\n",
       "    <tr>\n",
       "      <th>Speeding</th>\n",
       "      <td>0.008309</td>\n",
       "      <td>0.027885</td>\n",
       "    </tr>\n",
       "  </tbody>\n",
       "</table>\n",
       "</div>"
      ],
      "text/plain": [
       "driver_gender               F         M\n",
       "violation                              \n",
       "Equipment            0.039984  0.071496\n",
       "Moving violation     0.039257  0.061524\n",
       "Other                0.041018  0.046191\n",
       "Registration/plates  0.054924  0.108802\n",
       "Seat belt            0.017301  0.035119\n",
       "Speeding             0.008309  0.027885"
      ]
     },
     "execution_count": 116,
     "metadata": {},
     "output_type": "execute_result"
    }
   ],
   "source": [
    "ri.pivot_table(index ='violation',columns = 'driver_gender',values= 'search_conducted')"
   ]
  },
  {
   "cell_type": "code",
   "execution_count": 117,
   "metadata": {},
   "outputs": [
    {
     "name": "stdout",
     "output_type": "stream",
     "text": [
      "0.0355690117407784\n"
     ]
    }
   ],
   "source": [
    "# Calculate the overall arrest rate\n",
    "print(ri_weather.is_arrested.mean())"
   ]
  },
  {
   "cell_type": "code",
   "execution_count": 118,
   "metadata": {},
   "outputs": [
    {
     "name": "stdout",
     "output_type": "stream",
     "text": [
      "rating\n",
      "good     0.033715\n",
      "bad      0.036261\n",
      "worse    0.041667\n",
      "Name: is_arrested, dtype: float64\n"
     ]
    }
   ],
   "source": [
    "# Calculate the arrest rate for each 'rating'\n",
    "print(ri_weather.groupby('rating').is_arrested.mean())"
   ]
  },
  {
   "cell_type": "code",
   "execution_count": 119,
   "metadata": {},
   "outputs": [
    {
     "name": "stdout",
     "output_type": "stream",
     "text": [
      "violation            rating\n",
      "Equipment            good      0.059007\n",
      "                     bad       0.066311\n",
      "                     worse     0.097357\n",
      "Moving violation     good      0.056227\n",
      "                     bad       0.058050\n",
      "                     worse     0.065860\n",
      "Other                good      0.076966\n",
      "                     bad       0.087443\n",
      "                     worse     0.062893\n",
      "Registration/plates  good      0.081574\n",
      "                     bad       0.098160\n",
      "                     worse     0.115625\n",
      "Seat belt            good      0.028587\n",
      "                     bad       0.022493\n",
      "                     worse     0.000000\n",
      "Speeding             good      0.013405\n",
      "                     bad       0.013314\n",
      "                     worse     0.016886\n",
      "Name: is_arrested, dtype: float64\n"
     ]
    }
   ],
   "source": [
    "# Calculate the arrest rate for each 'violation' and 'rating'\n",
    "print(ri_weather.groupby(['violation', 'rating']).is_arrested.mean())"
   ]
  },
  {
   "cell_type": "markdown",
   "metadata": {},
   "source": [
    "The arrest rate increases as the weather gets worse, and that trend persists across many of the violation types. This doesn't prove a causal link, but it's quite an interesting result!"
   ]
  },
  {
   "cell_type": "code",
   "execution_count": 120,
   "metadata": {},
   "outputs": [
    {
     "name": "stdout",
     "output_type": "stream",
     "text": [
      "violation            rating\n",
      "Equipment            good      0.059007\n",
      "                     bad       0.066311\n",
      "                     worse     0.097357\n",
      "Moving violation     good      0.056227\n",
      "                     bad       0.058050\n",
      "                     worse     0.065860\n",
      "Other                good      0.076966\n",
      "                     bad       0.087443\n",
      "                     worse     0.062893\n",
      "Registration/plates  good      0.081574\n",
      "                     bad       0.098160\n",
      "                     worse     0.115625\n",
      "Seat belt            good      0.028587\n",
      "                     bad       0.022493\n",
      "                     worse     0.000000\n",
      "Speeding             good      0.013405\n",
      "                     bad       0.013314\n",
      "                     worse     0.016886\n",
      "Name: is_arrested, dtype: float64\n",
      "0.05804964058049641\n",
      "rating\n",
      "good     0.013405\n",
      "bad      0.013314\n",
      "worse    0.016886\n",
      "Name: is_arrested, dtype: float64\n"
     ]
    }
   ],
   "source": [
    "# Save the output of the groupby operation from the last exercise\n",
    "arrest_rate = ri_weather.groupby(['violation', 'rating']).is_arrested.mean()\n",
    "\n",
    "# Print the 'arrest_rate' Series\n",
    "print(arrest_rate)\n",
    "\n",
    "# Print the arrest rate for moving violations in bad weather\n",
    "print(arrest_rate.loc['Moving violation', 'bad'])\n",
    "\n",
    "# Print the arrest rates for speeding violations in all three weather conditions\n",
    "print(arrest_rate.loc['Speeding'])"
   ]
  },
  {
   "cell_type": "code",
   "execution_count": 121,
   "metadata": {},
   "outputs": [
    {
     "name": "stdout",
     "output_type": "stream",
     "text": [
      "rating                   good       bad     worse\n",
      "violation                                        \n",
      "Equipment            0.059007  0.066311  0.097357\n",
      "Moving violation     0.056227  0.058050  0.065860\n",
      "Other                0.076966  0.087443  0.062893\n",
      "Registration/plates  0.081574  0.098160  0.115625\n",
      "Seat belt            0.028587  0.022493  0.000000\n",
      "Speeding             0.013405  0.013314  0.016886\n",
      "rating                   good       bad     worse\n",
      "violation                                        \n",
      "Equipment            0.059007  0.066311  0.097357\n",
      "Moving violation     0.056227  0.058050  0.065860\n",
      "Other                0.076966  0.087443  0.062893\n",
      "Registration/plates  0.081574  0.098160  0.115625\n",
      "Seat belt            0.028587  0.022493  0.000000\n",
      "Speeding             0.013405  0.013314  0.016886\n"
     ]
    }
   ],
   "source": [
    "# Unstack the 'arrest_rate' Series into a DataFrame\n",
    "print(arrest_rate.unstack())\n",
    "\n",
    "# Create the same DataFrame using a pivot table\n",
    "print(ri_weather.pivot_table(index='violation', columns='rating', values='is_arrested'))"
   ]
  },
  {
   "cell_type": "code",
   "execution_count": null,
   "metadata": {},
   "outputs": [],
   "source": []
  }
 ],
 "metadata": {
  "kernelspec": {
   "display_name": "myenv",
   "language": "python",
   "name": "myenv"
  },
  "language_info": {
   "codemirror_mode": {
    "name": "ipython",
    "version": 3
   },
   "file_extension": ".py",
   "mimetype": "text/x-python",
   "name": "python",
   "nbconvert_exporter": "python",
   "pygments_lexer": "ipython3",
   "version": "3.6.12"
  }
 },
 "nbformat": 4,
 "nbformat_minor": 4
}
